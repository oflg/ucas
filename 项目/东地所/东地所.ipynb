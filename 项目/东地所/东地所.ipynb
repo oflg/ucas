{
 "cells": [
  {
   "cell_type": "code",
   "execution_count": null,
   "metadata": {},
   "outputs": [],
   "source": [
    "# 安装环境\n",
    "using Pkg\n",
    "Pkg.activate(@__DIR__)\n",
    "Pkg.instantiate()"
   ]
  },
  {
   "cell_type": "code",
   "execution_count": null,
   "metadata": {},
   "outputs": [],
   "source": [
    "using XLSX, DataFrames"
   ]
  },
  {
   "cell_type": "code",
   "execution_count": null,
   "metadata": {},
   "outputs": [],
   "source": [
    "path = joinpath(dirname(@__FILE__), \"data\")"
   ]
  },
  {
   "cell_type": "code",
   "execution_count": null,
   "metadata": {},
   "outputs": [],
   "source": [
    "df = DataFrame(XLSX.readtable(joinpath(path, \"东地所.xlsx\"), \"Sheet1\"))\n",
    "first(df, 3)"
   ]
  },
  {
   "cell_type": "code",
   "execution_count": null,
   "metadata": {},
   "outputs": [],
   "source": [
    "function toii(author, affiliation)\n",
    "    s1 = split(affiliation, \"Northeast Institute of Geography\")\n",
    "\n",
    "    s2 = split(s1[1], \"(\")[end]\n",
    "    s3 = replace(split(s2, \") \")[end], \", \" => \"\")\n",
    "    af = ifelse(s3 == \"\", \"无\", s3)\n",
    "\n",
    "    number = split(s2, \")\")[1]\n",
    "    a2 = split(author, \"; \")\n",
    "    filter!(x -> occursin(number, x), a2)\n",
    "    au = join(map(x -> split(x, \" (\")[1], a2), \"; \")\n",
    "\n",
    "    return au, af\n",
    "\n",
    "end\n",
    "\n",
    "transform!(df, [:Author,:AuthorAffiliation] => ByRow(toii) => [:本所作者, :本所作者所在实验室全称])\n",
    "\n",
    "first(df,3)"
   ]
  },
  {
   "cell_type": "code",
   "execution_count": null,
   "metadata": {},
   "outputs": [],
   "source": [
    "XLSX.writetable(joinpath(path, \"result.xlsx\"), df)"
   ]
  }
 ],
 "metadata": {
  "kernelspec": {
   "display_name": "Julia 1.8.2",
   "language": "julia",
   "name": "julia-1.8"
  },
  "language_info": {
   "file_extension": ".jl",
   "mimetype": "application/julia",
   "name": "julia",
   "version": "1.8.2"
  },
  "orig_nbformat": 4,
  "vscode": {
   "interpreter": {
    "hash": "3cce754de51ac193a051f43286f44f0eba752b0040de7a5c984f48c8b2be0795"
   }
  }
 },
 "nbformat": 4,
 "nbformat_minor": 2
}
